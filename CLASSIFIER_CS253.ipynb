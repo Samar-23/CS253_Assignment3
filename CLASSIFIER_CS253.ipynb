{
  "cells": [
    {
      "cell_type": "markdown",
      "metadata": {
        "id": "BKCrcukdE8Bb"
      },
      "source": [
        "# Assignment: Classification\n",
        "\n",
        "Classification refers to categorizing the given data into classes. For example,\n",
        "- Given an image of hand-written character, identifying the character (multi-class classification)\n",
        "- Given an image, annotating it with all the objects present in the image (multi-label classification)\n",
        "- Classifying an email as spam or non-spam (binary classification)\n",
        "- Classifying a tumor as benign or malignant and so on\n",
        "\n",
        "In this assignment, we will be building a classifier to classify emails as spam or non-spam. We will be using the Kaggle dataset [Spam or Not Spam Dataset](https://www.kaggle.com/datasets/ozlerhakan/spam-or-not-spam-dataset?resource=download) for this task. \n",
        "\n",
        "**Note**: You cannot load any libraries other than the mentioned ones.\n",
        "\n",
        "\n"
      ]
    },
    {
      "cell_type": "markdown",
      "metadata": {
        "id": "Irp6f7_2crfu"
      },
      "source": [
        "### Data pre-processing\n",
        "The first step in every machine learning algorithm is to process the raw data in some meaningful representations. We will be using the [Bag-of-Words](https://towardsdatascience.com/a-simple-explanation-of-the-bag-of-words-model-b88fc4f4971) representation to process the text. It comprises of following steps:\n",
        "\n",
        "- Process emails line-by-line to extract all the words.\n",
        "- Replace extracted words by their stem (root) word. This is known as stemming and lematization.\n",
        "- Remove stop words like and, or, is, am, and so on.\n",
        "- Assign a unique index to each word. This forms the vocabulary.\n",
        "- Represent each email as a binary vector of length equal to the size of the vocabulary such that the $i^{th}$ element of the vector is 1 iff the $i^th$ word is present in the email.\n",
        "\n",
        "Here we provide you with the function signature along with the expected functionality. You are expected to complete them accordingly. "
      ]
    },
    {
      "cell_type": "code",
      "execution_count": 10,
      "metadata": {
        "id": "wIlTOyyPn-mN"
      },
      "outputs": [
        {
          "name": "stderr",
          "output_type": "stream",
          "text": [
            "[nltk_data] Downloading package stopwords to C:\\Users\\Samarpreet\n",
            "[nltk_data]     Singh\\AppData\\Roaming\\nltk_data...\n",
            "[nltk_data]   Package stopwords is already up-to-date!\n"
          ]
        }
      ],
      "source": [
        "import numpy as np\n",
        "import nltk\n",
        "nltk.download('stopwords')\n",
        "from nltk.stem import PorterStemmer\n",
        "from nltk.corpus import stopwords\n",
        "# takes an email as an argument\n",
        "# read email line-by-line and extract all the words\n",
        "# return list of extracted words\n",
        "\n",
        "vocab = []\n",
        "\n",
        "def read_email(email):\n",
        "    words = email.strip().split()\n",
        "    return words\n",
        "  \n",
        "# takes a list of words as an argument\n",
        "# replace each word by their stem word\n",
        "# return list of stem words\n",
        "def stemming(words):\n",
        "    stemmer = PorterStemmer()\n",
        "    stem_words = []\n",
        "    for word in words:\n",
        "        stem_words.append(stemmer.stem(word))\n",
        "    \n",
        "    return stem_words\n",
        "\n",
        "# takes a list of stem-words as an argument\n",
        "# remove stop words\n",
        "# return list of stem words after removing stop words\n",
        "def remove_stop_words(stem_words):\n",
        "    stem_no_stop_words = []\n",
        "    stop_words = set(stopwords.words('english'))\n",
        "    for word in stem_words:\n",
        "        if word not in stop_words:\n",
        "            stem_no_stop_words.append(word)\n",
        "    return stem_no_stop_words\n",
        "\n",
        "# takes a list of stem-words as an argument\n",
        "# add new words to the vocabulary and assign a unique index to them\n",
        "# returns new vocabulary\n",
        "def build_vocabulary(stem_words):\n",
        "    for word in stem_words:\n",
        "        if word not in vocab:\n",
        "            vocab.append(word)\n",
        "    return\n",
        "\n",
        "# takes a list of stem-words and vocabulary as an argument\n",
        "# returns bow representation\n",
        "def get_bow(stem_words):\n",
        "    email_bow = []\n",
        "    bow = {}\n",
        "    for word in vocab:\n",
        "      bow[word] = 0\n",
        "    for word in stem_words:\n",
        "      bow[word] += 1\n",
        "    for word in vocab:\n",
        "      email_bow.append(bow[word])\n",
        "    return email_bow\n",
        "\n",
        "def text_to_bow(string_data):\n",
        "    list1 = []\n",
        "    list2 = []\n",
        "    for email in string_data:\n",
        "        list1.append(get_bow(remove_stop_words(stemming(read_email(email)))))\n",
        "        list2.append(int(string_data[email]))\n",
        "    return [np.array(list1),np.array(list2)]\n",
        "# read the entire dataset\n",
        "# convert emails to bow and maintain their labels\n",
        "# call function text_to_bow()\n",
        "def read_data():\n",
        "    emails = []\n",
        "    with open('spam_or_not_spam.csv',\"r\",encoding='utf-8') as email:\n",
        "        emails = email.readlines()\n",
        "    flag = 0\n",
        "    string_data = {}    \n",
        "    for line in emails:\n",
        "        if not flag:\n",
        "            flag = 1\n",
        "        else:\n",
        "            email,label = line.rsplit(\",\", 1)\n",
        "            build_vocabulary(remove_stop_words(stemming(read_email(email))))\n",
        "            string_data[email] = label\n",
        "    data = text_to_bow(string_data)\n",
        "    return data\n",
        "data = read_data()"
      ]
    },
    {
      "cell_type": "markdown",
      "metadata": {
        "id": "d0cDiGt6nkPY"
      },
      "source": [
        "### Data Visualization\n",
        "Let's understand the data distribution\n",
        "- Visualize the frequency of word-occurence in all the emails(spam + non-spam)\n",
        "- Visualize the freuency of word-occurence for spam and non-spam emails separately"
      ]
    },
    {
      "cell_type": "code",
      "execution_count": 15,
      "metadata": {
        "colab": {
          "base_uri": "https://localhost:8080/",
          "height": 871
        },
        "id": "4vJLcTxDLZsh",
        "outputId": "d9c5ee5d-9c55-4369-cdd8-a039367dc949"
      },
      "outputs": [
        {
          "name": "stderr",
          "output_type": "stream",
          "text": [
            "No artists with labels found to put in legend.  Note that artists whose label start with an underscore are ignored when legend() is called with no argument.\n"
          ]
        },
        {
          "data": {
            "image/png": "[encoded data removed]",
            "text/plain": [
              "<Figure size 864x432 with 1 Axes>"
            ]
          },
          "metadata": {
            "needs_background": "light"
          },
          "output_type": "display_data"
        },
        {
          "data": {
            "image/png": "[encoded data removed]",
            "text/plain": [
              "<Figure size 864x432 with 1 Axes>"
            ]
          },
          "metadata": {
            "needs_background": "light"
          },
          "output_type": "display_data"
        },
        {
          "data": {
            "image/png": "[encoded data removed]",
            "text/plain": [
              "<Figure size 864x432 with 1 Axes>"
            ]
          },
          "metadata": {
            "needs_background": "light"
          },
          "output_type": "display_data"
        }
      ],
      "source": [
        "import matplotlib.pyplot as plt\n",
        "\n",
        "# visuallze data distribution\n",
        "def data_vis(data):\n",
        "    spam_list = np.zeros(len(vocab))\n",
        "    non_spam_list = np.zeros(len(vocab))\n",
        "    for i in range(len(data[1])):\n",
        "          if data[1][i] == 1:\n",
        "            for j in range(len(vocab)):\n",
        "                spam_list[j] = spam_list[j] + data[0][i][j]\n",
        "          if data[1][i] == 0:\n",
        "            for j in range(len(vocab)):\n",
        "                non_spam_list[j] = non_spam_list[j] + data[0][i][j]\n",
        "    total_list = np.add(spam_list,non_spam_list)\n",
        "    \n",
        "    ind = np.argpartition(total_list, -50)[-50:]\n",
        "    plt.figure(figsize=(12, 6))\n",
        "    plt.bar(np.arange(50),total_list[ind])\n",
        "    plt.xlabel(\"50 most occurring words (overall)\")\n",
        "    plt.ylabel(\"Frequency\")\n",
        "    plt.title(\"Word occurrence (Total)\")\n",
        "    plt.legend()\n",
        "    plt.show()\n",
        "    \n",
        "    ind = np.argpartition(spam_list, -50)[-50:]\n",
        "    plt.figure(figsize=(12, 6))\n",
        "    plt.bar(np.arange(50)-0.2,spam_list[ind],0.4,label='spam')\n",
        "    plt.bar(np.arange(50)+0.2,non_spam_list[ind],0.4,label='non-spam')\n",
        "    plt.xlabel(\"50 most occurring words (spam)\")\n",
        "    plt.ylabel(\"Frequency\")\n",
        "    plt.title(\"Word occurrence (Spam)\")\n",
        "    plt.legend()\n",
        "    plt.show()    \n",
        "  \n",
        "    ind = np.argpartition(non_spam_list, -50)[-50:]\n",
        "    plt.figure(figsize=(12, 6))\n",
        "    plt.bar(np.arange(50)-0.2,spam_list[ind],0.4,label='spam')\n",
        "    plt.bar(np.arange(50)+0.2,non_spam_list[ind],0.4,label='non-spam')\n",
        "    plt.xlabel(\"50 most occurring words (non-spam)\")\n",
        "    plt.ylabel(\"Frequency\")\n",
        "    plt.title(\"Word occurrence (Non-Spam)\")\n",
        "    plt.legend()\n",
        "    plt.show() \n",
        "\n",
        "data_vis(data)"
      ]
    },
    {
      "cell_type": "markdown",
      "metadata": {
        "id": "LPq-3nTzGcdX"
      },
      "source": [
        "### Learn a Classifier\n",
        "Split the dataset randomly in the ratio 80:20 as the training and test dataset. Use only training dataset to learn the classifier. No test data should be used during training. Test data will only be used during evaluation.\n",
        "\n",
        "Now let us try to use ML algorithms to classify emails as spam or non-spam. You are supposed to implement [SVM](https://scikit-learn.org/stable/modules/svm.html) and [K-Nearest Neighbour](https://scikit-learn.org/stable/modules/generated/sklearn.neighbors.KNeighborsClassifier.html) algorithm available in scikit-learn using the same training dataset for both."
      ]
    },
    {
      "cell_type": "code",
      "execution_count": 17,
      "metadata": {
        "id": "IMpuaPCKHxwh"
      },
      "outputs": [],
      "source": [
        "from sklearn.neighbors import KNeighborsClassifier\n",
        "from sklearn import svm\n",
        "import random\n",
        "# split dataset\n",
        "def split(data):\n",
        "  n = range(len(data[0]))\n",
        "  n1 = int(len(n)*8/10)\n",
        "  res = random.sample(list(n),n1)\n",
        "  train_data = []\n",
        "  test_data = []\n",
        "  for i in n:\n",
        "    if i in res:\n",
        "      train_data.append([data[0][i],data[1][i]])\n",
        "    else:\n",
        "      test_data.append([data[0][i],data[1][i]])\n",
        "  return train_data, test_data\n",
        "\n",
        "# learn a SVM model\n",
        "# use the model to make prediction\n",
        "# return the model predictions on train and test dataset\n",
        "def svm_classifier(train_data,test_data, X_train, Y_train, X_test):\n",
        "  \n",
        "  model = svm.SVC()\n",
        "  model.fit(X_train,Y_train)\n",
        "  predict_labels = model.predict(X_train),model.predict(X_test)\n",
        "  return predict_labels\n",
        "\n",
        "# implement k-NN algorithm\n",
        "# use the model to make prediction\n",
        "# return the model predictions on train and test dataset\n",
        "def knn_classifier(train_data,test_data, X_train, Y_train, X_test):\n",
        "\n",
        "  model = KNeighborsClassifier(n_neighbors=5)\n",
        "  model.fit(X_train,Y_train)\n",
        "  predict_labels = model.predict(X_train),model.predict(X_test)\n",
        "  return predict_labels\n",
        "\n",
        "train_data, test_data = split(data)\n",
        "X_train = []\n",
        "Y_train = []\n",
        "X_test = []\n",
        "Y_test = []\n",
        "for x in train_data:\n",
        "  X_train.append(x[0])\n",
        "  Y_train.append(x[1])\n",
        "for x in test_data:\n",
        "  X_test.append(x[0])\n",
        "  Y_test.append(x[1])\n",
        "svm_train_predictions, svm_test_predictions = svm_classifier(train_data, test_data, X_train, Y_train, X_test)\n",
        "knn_train_predictions, knn_test_predictions = knn_classifier(train_data, test_data, X_train, Y_train, X_test)"
      ]
    },
    {
      "cell_type": "markdown",
      "metadata": {
        "id": "SlCwYvluHqQz"
      },
      "source": [
        "### Model Evaluation\n",
        "Compare the SVM and k-NN model using metrics\n",
        "- Accuracy\n",
        "- [AUC score](https://scikit-learn.org/stable/modules/generated/sklearn.metrics.auc.html)\n"
      ]
    },
    {
      "cell_type": "code",
      "execution_count": 18,
      "metadata": {
        "colab": {
          "base_uri": "https://localhost:8080/"
        },
        "id": "X3KmcTpqKbGI",
        "outputId": "4349f096-ff5c-4a63-adff-361353cce9e3"
      },
      "outputs": [
        {
          "name": "stdout",
          "output_type": "stream",
          "text": [
            "Accuracy score for train data (SVM):  0.953437771975631\n",
            "Accuracy score for test data (SVM):  0.951304347826087\n",
            "Accuracy score for train data (KNN):  0.9199303742384682\n",
            "Accuracy score for test data (KNN):  0.8608695652173913\n",
            "\n",
            "\n",
            "AUC score for train data (SVM):  0.8429401642313731\n",
            "AUC score for test data (SVM):  0.8444444444444444\n",
            "AUC score for train data (KNN):  0.8306424344885883\n",
            "AUC score for test data (KNN):  0.7636884306987399\n"
          ]
        }
      ],
      "source": [
        "from sklearn import metrics\n",
        "# compute accuracy \n",
        "def compute_accuracy(true_labels, predicted_labels):\n",
        "  acc = metrics.accuracy_score(true_labels,predicted_labels)\n",
        "  return acc\n",
        "\n",
        "# compute AUC score \n",
        "def compute_auc(true_labels, predicted_labels):\n",
        "  auc = metrics.roc_auc_score(true_labels,predicted_labels)\n",
        "  return auc\n",
        "\n",
        "# write code to print train and test accuracy and AUC score of SVM and k-NN classifier\n",
        "print(\"Accuracy score for train data (SVM): \",compute_accuracy(Y_train,svm_train_predictions))\n",
        "print(\"Accuracy score for test data (SVM): \",compute_accuracy(Y_test,svm_test_predictions))\n",
        "print(\"Accuracy score for train data (KNN): \",compute_accuracy(Y_train,knn_train_predictions))\n",
        "print(\"Accuracy score for test data (KNN): \",compute_accuracy(Y_test,knn_test_predictions))\n",
        "print('\\n')\n",
        "print(\"AUC score for train data (SVM): \",compute_auc(Y_train,svm_train_predictions))\n",
        "print(\"AUC score for test data (SVM): \",compute_auc(Y_test,svm_test_predictions))\n",
        "print(\"AUC score for train data (KNN): \",compute_auc(Y_train,knn_train_predictions))\n",
        "print(\"AUC score for test data (KNN): \",compute_auc(Y_test,knn_test_predictions))"
      ]
    }
  ],
  "metadata": {
    "colab": {
      "collapsed_sections": [],
      "name": "CLASSIFIER_CS253",
      "provenance": []
    },
    "kernelspec": {
      "display_name": "Python 3",
      "name": "python3"
    },
    "language_info": {
      "codemirror_mode": {
        "name": "ipython",
        "version": 3
      },
      "file_extension": ".py",
      "mimetype": "text/x-python",
      "name": "python",
      "nbconvert_exporter": "python",
      "pygments_lexer": "ipython3",
      "version": "3.9.10"
    }
  },
  "nbformat": 4,
  "nbformat_minor": 0
}
